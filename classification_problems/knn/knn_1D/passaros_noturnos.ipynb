{
 "cells": [
  {
   "cell_type": "markdown",
   "metadata": {},
   "source": [
    "# KNN Unidimensional - Problema dos Pássaros Noturnos\n",
    "\n",
    "Classifique o comportamento de um pássaro como noturno ou diurno, tendo como informação o horário de seu pico de atividade."
   ]
  },
  {
   "cell_type": "code",
   "execution_count": 109,
   "metadata": {},
   "outputs": [],
   "source": [
    "import pandas as pd\n",
    "import numpy as np\n",
    "import matplotlib.pyplot as plt"
   ]
  },
  {
   "cell_type": "code",
   "execution_count": 110,
   "metadata": {},
   "outputs": [],
   "source": [
    "class Animal:\n",
    "    def __init__(self, activity_time:float, habit:str):\n",
    "        self.activity_time = activity_time # in hours\n",
    "        self.habit = habit # diurne or nocturne"
   ]
  },
  {
   "cell_type": "code",
   "execution_count": 111,
   "metadata": {},
   "outputs": [
    {
     "data": {
      "text/plain": [
       "(array([0., 0., 0., 0., 3., 2., 1., 0., 0., 0., 0., 0., 1., 2., 2.]),\n",
       " array([ 0. ,  1.5,  3. ,  4.5,  6. ,  7.5,  9. , 10.5, 12. , 13.5, 15. ,\n",
       "        16.5, 18. , 19.5, 21. , 22.5]),\n",
       " <BarContainer object of 15 artists>)"
      ]
     },
     "execution_count": 111,
     "metadata": {},
     "output_type": "execute_result"
    },
    {
     "data": {
      "image/png": "[encoded data removed]",
      "text/plain": [
       "<Figure size 640x480 with 1 Axes>"
      ]
     },
     "metadata": {},
     "output_type": "display_data"
    }
   ],
   "source": [
    "samples = [\n",
    "    Animal(9, 'diurne'),\n",
    "    Animal(7, 'diurne'),\n",
    "    Animal(19, 'nocturne'),\n",
    "    Animal(21, 'nocturne'),\n",
    "    Animal(20.5, 'nocturne'),\n",
    "    Animal(6.5, 'diurne'),\n",
    "    Animal(20.5, 'nocturne'),\n",
    "    Animal(8, 'diurne'),\n",
    "    Animal(8.5, 'diurne'),\n",
    "    Animal(6.5, 'diurne'),\n",
    "    Animal(23.5, 'nocturne'),\n",
    "    Animal(22, 'nocturne')\n",
    "]\n",
    "\n",
    "times = [x.activity_time for x in samples]\n",
    "\n",
    "plt.hist(times, bins=np.arange(0,24,1.5))"
   ]
  },
  {
   "cell_type": "code",
   "execution_count": 112,
   "metadata": {},
   "outputs": [],
   "source": [
    "class HabitClassifier:\n",
    "    def __init__(self):\n",
    "        self.samples = []\n",
    "        self.diurne_animals = []\n",
    "        self.nocturne_animals = []\n",
    "\n",
    "\n",
    "    def __init__(self, samples):\n",
    "        self.samples = samples\n",
    "        self.diurne_animals = []\n",
    "        self.nocturne_animals = []\n",
    "        self.add_sample(samples)\n",
    "    \n",
    "    \n",
    "    def add_sample(self, sample):\n",
    "        for animal in sample:\n",
    "            if animal.habit == 'diurne':\n",
    "                self.diurne_animals.append(animal)\n",
    "            elif animal.habit == 'nocturne':\n",
    "                self.nocturne_animals.append(animal)\n",
    "              \n",
    "                \n",
    "    def predict_habit(self, animal: Animal):\n",
    "        diurne_habit_distance = HabitClassifier.habit_distance(animal, self.diurne_animals)\n",
    "        nocturne_habit_distance = HabitClassifier.habit_distance(animal, self.nocturne_animals)\n",
    "        \n",
    "        if diurne_habit_distance < nocturne_habit_distance:\n",
    "            return 'diurne'\n",
    "        else:\n",
    "            return 'nocturne'\n",
    "    \n",
    "    \n",
    "    def habit_distance(animal: Animal, sample: [Animal]):\n",
    "        sample_size = len(sample)\n",
    "        distance = 0\n",
    "        \n",
    "        for sample_animal in sample:\n",
    "            distance = distance + (HabitClassifier.time_activity_distance(animal, sample_animal)/sample_size)\n",
    "            \n",
    "        return distance\n",
    "            \n",
    "            \n",
    "    def time_activity_distance(animal_a: Animal, animal_b: Animal):\n",
    "        distance = np.absolute(animal_a.activity_time - animal_b.activity_time)\n",
    "        return distance"
   ]
  },
  {
   "cell_type": "code",
   "execution_count": 113,
   "metadata": {},
   "outputs": [],
   "source": [
    "habit_classifier = HabitClassifier(samples)"
   ]
  },
  {
   "cell_type": "code",
   "execution_count": 114,
   "metadata": {},
   "outputs": [
    {
     "data": {
      "text/plain": [
       "'nocturne'"
      ]
     },
     "execution_count": 114,
     "metadata": {},
     "output_type": "execute_result"
    }
   ],
   "source": [
    "habit_classifier.predict_habit(Animal(19.5, None))"
   ]
  },
  {
   "cell_type": "code",
   "execution_count": 116,
   "metadata": {},
   "outputs": [
    {
     "data": {
      "text/plain": [
       "[<matplotlib.lines.Line2D at 0x7fcc9689e1a0>]"
      ]
     },
     "execution_count": 116,
     "metadata": {},
     "output_type": "execute_result"
    },
    {
     "data": {
      "image/png": "[encoded data removed]",
      "text/plain": [
       "<Figure size 640x480 with 1 Axes>"
      ]
     },
     "metadata": {},
     "output_type": "display_data"
    }
   ],
   "source": [
    "all_day_times = np.arange(0,24,0.2)\n",
    "habits = []\n",
    "\n",
    "for time in all_day_times:\n",
    "    habits.append(habit_classifier.predict_habit(Animal(time, None)))\n",
    "    \n",
    "plt.plot(all_day_times, habits)"
   ]
  }
 ],
 "metadata": {
  "kernelspec": {
   "display_name": "Python 3",
   "language": "python",
   "name": "python3"
  },
  "language_info": {
   "codemirror_mode": {
    "name": "ipython",
    "version": 3
   },
   "file_extension": ".py",
   "mimetype": "text/x-python",
   "name": "python",
   "nbconvert_exporter": "python",
   "pygments_lexer": "ipython3",
   "version": "3.10.12"
  },
  "orig_nbformat": 4
 },
 "nbformat": 4,
 "nbformat_minor": 2
}
